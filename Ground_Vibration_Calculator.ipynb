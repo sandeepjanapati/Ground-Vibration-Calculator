{
  "nbformat": 4,
  "nbformat_minor": 0,
  "metadata": {
    "colab": {
      "provenance": [],
      "authorship_tag": "ABX9TyOlXjPf4kbZEByDbM+dS66V",
      "include_colab_link": true
    },
    "kernelspec": {
      "name": "python3",
      "display_name": "Python 3"
    },
    "language_info": {
      "name": "python"
    }
  },
  "cells": [
    {
      "cell_type": "markdown",
      "metadata": {
        "id": "view-in-github",
        "colab_type": "text"
      },
      "source": [
        "<a href=\"https://colab.research.google.com/github/sandeepjanapati/Ground-Vibration-Calculator/blob/main/Ground_Vibration_Calculator.ipynb\" target=\"_parent\"><img src=\"https://colab.research.google.com/assets/colab-badge.svg\" alt=\"Open In Colab\"/></a>"
      ]
    },
    {
      "cell_type": "code",
      "execution_count": 19,
      "metadata": {
        "id": "3I1MZLu0QIh8"
      },
      "outputs": [],
      "source": [
        "import pandas as pd\n",
        "import numpy as np\n",
        "import matplotlib.pyplot as plt\n",
        "import sklearn\n",
        "from tensorflow import keras\n",
        "from keras import regularizers\n",
        "from sklearn.preprocessing import StandardScaler\n",
        "from sklearn.model_selection import train_test_split\n",
        "from keras.models import Sequential\n",
        "from keras.layers import  Dense\n",
        "from keras.optimizers import Adam\n",
        "import random\n",
        "random.seed(0)\n",
        "np.random.seed(0)"
      ]
    },
    {
      "cell_type": "code",
      "source": [
        "dataset = pd.read_csv('/content/ROCK BLAST DATA.csv')\n",
        "features_name = ['Spacing(m)','Burden (m)','Powder Factor(kg/m3)','MCPD (kg/D)','Seis. Dist. (m)','PPV MON']\n",
        "df = dataset[features_name]\n",
        "df =df.rename(columns={'Spacing(m)': 'Spacing','Burden (m)':'Burden','Powder Factor(kg/m3)':'Powder Factor','MCPD (kg/D)':'MCPD', 'Seis. Dist. (m)': 'Distance', 'PPV MON': \"PPV\"})\n",
        "df"
      ],
      "metadata": {
        "colab": {
          "base_uri": "https://localhost:8080/",
          "height": 423
        },
        "id": "ck8hqTuRQUX0",
        "outputId": "69da6a99-4c0a-4802-f776-a5f8f6569d3a"
      },
      "execution_count": 3,
      "outputs": [
        {
          "output_type": "execute_result",
          "data": {
            "text/plain": [
              "     Spacing  Burden  Powder Factor    MCPD  Distance      PPV\n",
              "0        3.0     3.0           0.57     113    360.00   10.500\n",
              "1        3.2     2.8           0.52      35    315.00    2.750\n",
              "2        3.0     3.0           0.35   28.44    410.00    1.450\n",
              "3        3.5     2.8           0.33   43.33    465.00    0.992\n",
              "4        3.8     3.0           0.32      50    290.00    5.120\n",
              "..       ...     ...            ...     ...       ...      ...\n",
              "981      3.6     3.2           0.54     250      3.94  300.000\n",
              "982      3.6     3.2           0.54  186.78      3.18  400.000\n",
              "983      3.5     3.0           0.58  116.66      9.40  280.000\n",
              "984      3.5     3.0           0.62  104.16     13.70  230.000\n",
              "985      2.8     2.5           0.39   13.88     13.70  235.000\n",
              "\n",
              "[986 rows x 6 columns]"
            ],
            "text/html": [
              "\n",
              "  <div id=\"df-4e56192c-380e-4a01-92f3-c51d31239e81\" class=\"colab-df-container\">\n",
              "    <div>\n",
              "<style scoped>\n",
              "    .dataframe tbody tr th:only-of-type {\n",
              "        vertical-align: middle;\n",
              "    }\n",
              "\n",
              "    .dataframe tbody tr th {\n",
              "        vertical-align: top;\n",
              "    }\n",
              "\n",
              "    .dataframe thead th {\n",
              "        text-align: right;\n",
              "    }\n",
              "</style>\n",
              "<table border=\"1\" class=\"dataframe\">\n",
              "  <thead>\n",
              "    <tr style=\"text-align: right;\">\n",
              "      <th></th>\n",
              "      <th>Spacing</th>\n",
              "      <th>Burden</th>\n",
              "      <th>Powder Factor</th>\n",
              "      <th>MCPD</th>\n",
              "      <th>Distance</th>\n",
              "      <th>PPV</th>\n",
              "    </tr>\n",
              "  </thead>\n",
              "  <tbody>\n",
              "    <tr>\n",
              "      <th>0</th>\n",
              "      <td>3.0</td>\n",
              "      <td>3.0</td>\n",
              "      <td>0.57</td>\n",
              "      <td>113</td>\n",
              "      <td>360.00</td>\n",
              "      <td>10.500</td>\n",
              "    </tr>\n",
              "    <tr>\n",
              "      <th>1</th>\n",
              "      <td>3.2</td>\n",
              "      <td>2.8</td>\n",
              "      <td>0.52</td>\n",
              "      <td>35</td>\n",
              "      <td>315.00</td>\n",
              "      <td>2.750</td>\n",
              "    </tr>\n",
              "    <tr>\n",
              "      <th>2</th>\n",
              "      <td>3.0</td>\n",
              "      <td>3.0</td>\n",
              "      <td>0.35</td>\n",
              "      <td>28.44</td>\n",
              "      <td>410.00</td>\n",
              "      <td>1.450</td>\n",
              "    </tr>\n",
              "    <tr>\n",
              "      <th>3</th>\n",
              "      <td>3.5</td>\n",
              "      <td>2.8</td>\n",
              "      <td>0.33</td>\n",
              "      <td>43.33</td>\n",
              "      <td>465.00</td>\n",
              "      <td>0.992</td>\n",
              "    </tr>\n",
              "    <tr>\n",
              "      <th>4</th>\n",
              "      <td>3.8</td>\n",
              "      <td>3.0</td>\n",
              "      <td>0.32</td>\n",
              "      <td>50</td>\n",
              "      <td>290.00</td>\n",
              "      <td>5.120</td>\n",
              "    </tr>\n",
              "    <tr>\n",
              "      <th>...</th>\n",
              "      <td>...</td>\n",
              "      <td>...</td>\n",
              "      <td>...</td>\n",
              "      <td>...</td>\n",
              "      <td>...</td>\n",
              "      <td>...</td>\n",
              "    </tr>\n",
              "    <tr>\n",
              "      <th>981</th>\n",
              "      <td>3.6</td>\n",
              "      <td>3.2</td>\n",
              "      <td>0.54</td>\n",
              "      <td>250</td>\n",
              "      <td>3.94</td>\n",
              "      <td>300.000</td>\n",
              "    </tr>\n",
              "    <tr>\n",
              "      <th>982</th>\n",
              "      <td>3.6</td>\n",
              "      <td>3.2</td>\n",
              "      <td>0.54</td>\n",
              "      <td>186.78</td>\n",
              "      <td>3.18</td>\n",
              "      <td>400.000</td>\n",
              "    </tr>\n",
              "    <tr>\n",
              "      <th>983</th>\n",
              "      <td>3.5</td>\n",
              "      <td>3.0</td>\n",
              "      <td>0.58</td>\n",
              "      <td>116.66</td>\n",
              "      <td>9.40</td>\n",
              "      <td>280.000</td>\n",
              "    </tr>\n",
              "    <tr>\n",
              "      <th>984</th>\n",
              "      <td>3.5</td>\n",
              "      <td>3.0</td>\n",
              "      <td>0.62</td>\n",
              "      <td>104.16</td>\n",
              "      <td>13.70</td>\n",
              "      <td>230.000</td>\n",
              "    </tr>\n",
              "    <tr>\n",
              "      <th>985</th>\n",
              "      <td>2.8</td>\n",
              "      <td>2.5</td>\n",
              "      <td>0.39</td>\n",
              "      <td>13.88</td>\n",
              "      <td>13.70</td>\n",
              "      <td>235.000</td>\n",
              "    </tr>\n",
              "  </tbody>\n",
              "</table>\n",
              "<p>986 rows × 6 columns</p>\n",
              "</div>\n",
              "    <div class=\"colab-df-buttons\">\n",
              "\n",
              "  <div class=\"colab-df-container\">\n",
              "    <button class=\"colab-df-convert\" onclick=\"convertToInteractive('df-4e56192c-380e-4a01-92f3-c51d31239e81')\"\n",
              "            title=\"Convert this dataframe to an interactive table.\"\n",
              "            style=\"display:none;\">\n",
              "\n",
              "  <svg xmlns=\"http://www.w3.org/2000/svg\" height=\"24px\" viewBox=\"0 -960 960 960\">\n",
              "    <path d=\"M120-120v-720h720v720H120Zm60-500h600v-160H180v160Zm220 220h160v-160H400v160Zm0 220h160v-160H400v160ZM180-400h160v-160H180v160Zm440 0h160v-160H620v160ZM180-180h160v-160H180v160Zm440 0h160v-160H620v160Z\"/>\n",
              "  </svg>\n",
              "    </button>\n",
              "\n",
              "  <style>\n",
              "    .colab-df-container {\n",
              "      display:flex;\n",
              "      gap: 12px;\n",
              "    }\n",
              "\n",
              "    .colab-df-convert {\n",
              "      background-color: #E8F0FE;\n",
              "      border: none;\n",
              "      border-radius: 50%;\n",
              "      cursor: pointer;\n",
              "      display: none;\n",
              "      fill: #1967D2;\n",
              "      height: 32px;\n",
              "      padding: 0 0 0 0;\n",
              "      width: 32px;\n",
              "    }\n",
              "\n",
              "    .colab-df-convert:hover {\n",
              "      background-color: #E2EBFA;\n",
              "      box-shadow: 0px 1px 2px rgba(60, 64, 67, 0.3), 0px 1px 3px 1px rgba(60, 64, 67, 0.15);\n",
              "      fill: #174EA6;\n",
              "    }\n",
              "\n",
              "    .colab-df-buttons div {\n",
              "      margin-bottom: 4px;\n",
              "    }\n",
              "\n",
              "    [theme=dark] .colab-df-convert {\n",
              "      background-color: #3B4455;\n",
              "      fill: #D2E3FC;\n",
              "    }\n",
              "\n",
              "    [theme=dark] .colab-df-convert:hover {\n",
              "      background-color: #434B5C;\n",
              "      box-shadow: 0px 1px 3px 1px rgba(0, 0, 0, 0.15);\n",
              "      filter: drop-shadow(0px 1px 2px rgba(0, 0, 0, 0.3));\n",
              "      fill: #FFFFFF;\n",
              "    }\n",
              "  </style>\n",
              "\n",
              "    <script>\n",
              "      const buttonEl =\n",
              "        document.querySelector('#df-4e56192c-380e-4a01-92f3-c51d31239e81 button.colab-df-convert');\n",
              "      buttonEl.style.display =\n",
              "        google.colab.kernel.accessAllowed ? 'block' : 'none';\n",
              "\n",
              "      async function convertToInteractive(key) {\n",
              "        const element = document.querySelector('#df-4e56192c-380e-4a01-92f3-c51d31239e81');\n",
              "        const dataTable =\n",
              "          await google.colab.kernel.invokeFunction('convertToInteractive',\n",
              "                                                    [key], {});\n",
              "        if (!dataTable) return;\n",
              "\n",
              "        const docLinkHtml = 'Like what you see? Visit the ' +\n",
              "          '<a target=\"_blank\" href=https://colab.research.google.com/notebooks/data_table.ipynb>data table notebook</a>'\n",
              "          + ' to learn more about interactive tables.';\n",
              "        element.innerHTML = '';\n",
              "        dataTable['output_type'] = 'display_data';\n",
              "        await google.colab.output.renderOutput(dataTable, element);\n",
              "        const docLink = document.createElement('div');\n",
              "        docLink.innerHTML = docLinkHtml;\n",
              "        element.appendChild(docLink);\n",
              "      }\n",
              "    </script>\n",
              "  </div>\n",
              "\n",
              "\n",
              "<div id=\"df-43da1e17-d3cd-419b-9140-d9043a466374\">\n",
              "  <button class=\"colab-df-quickchart\" onclick=\"quickchart('df-43da1e17-d3cd-419b-9140-d9043a466374')\"\n",
              "            title=\"Suggest charts\"\n",
              "            style=\"display:none;\">\n",
              "\n",
              "<svg xmlns=\"http://www.w3.org/2000/svg\" height=\"24px\"viewBox=\"0 0 24 24\"\n",
              "     width=\"24px\">\n",
              "    <g>\n",
              "        <path d=\"M19 3H5c-1.1 0-2 .9-2 2v14c0 1.1.9 2 2 2h14c1.1 0 2-.9 2-2V5c0-1.1-.9-2-2-2zM9 17H7v-7h2v7zm4 0h-2V7h2v10zm4 0h-2v-4h2v4z\"/>\n",
              "    </g>\n",
              "</svg>\n",
              "  </button>\n",
              "\n",
              "<style>\n",
              "  .colab-df-quickchart {\n",
              "      --bg-color: #E8F0FE;\n",
              "      --fill-color: #1967D2;\n",
              "      --hover-bg-color: #E2EBFA;\n",
              "      --hover-fill-color: #174EA6;\n",
              "      --disabled-fill-color: #AAA;\n",
              "      --disabled-bg-color: #DDD;\n",
              "  }\n",
              "\n",
              "  [theme=dark] .colab-df-quickchart {\n",
              "      --bg-color: #3B4455;\n",
              "      --fill-color: #D2E3FC;\n",
              "      --hover-bg-color: #434B5C;\n",
              "      --hover-fill-color: #FFFFFF;\n",
              "      --disabled-bg-color: #3B4455;\n",
              "      --disabled-fill-color: #666;\n",
              "  }\n",
              "\n",
              "  .colab-df-quickchart {\n",
              "    background-color: var(--bg-color);\n",
              "    border: none;\n",
              "    border-radius: 50%;\n",
              "    cursor: pointer;\n",
              "    display: none;\n",
              "    fill: var(--fill-color);\n",
              "    height: 32px;\n",
              "    padding: 0;\n",
              "    width: 32px;\n",
              "  }\n",
              "\n",
              "  .colab-df-quickchart:hover {\n",
              "    background-color: var(--hover-bg-color);\n",
              "    box-shadow: 0 1px 2px rgba(60, 64, 67, 0.3), 0 1px 3px 1px rgba(60, 64, 67, 0.15);\n",
              "    fill: var(--button-hover-fill-color);\n",
              "  }\n",
              "\n",
              "  .colab-df-quickchart-complete:disabled,\n",
              "  .colab-df-quickchart-complete:disabled:hover {\n",
              "    background-color: var(--disabled-bg-color);\n",
              "    fill: var(--disabled-fill-color);\n",
              "    box-shadow: none;\n",
              "  }\n",
              "\n",
              "  .colab-df-spinner {\n",
              "    border: 2px solid var(--fill-color);\n",
              "    border-color: transparent;\n",
              "    border-bottom-color: var(--fill-color);\n",
              "    animation:\n",
              "      spin 1s steps(1) infinite;\n",
              "  }\n",
              "\n",
              "  @keyframes spin {\n",
              "    0% {\n",
              "      border-color: transparent;\n",
              "      border-bottom-color: var(--fill-color);\n",
              "      border-left-color: var(--fill-color);\n",
              "    }\n",
              "    20% {\n",
              "      border-color: transparent;\n",
              "      border-left-color: var(--fill-color);\n",
              "      border-top-color: var(--fill-color);\n",
              "    }\n",
              "    30% {\n",
              "      border-color: transparent;\n",
              "      border-left-color: var(--fill-color);\n",
              "      border-top-color: var(--fill-color);\n",
              "      border-right-color: var(--fill-color);\n",
              "    }\n",
              "    40% {\n",
              "      border-color: transparent;\n",
              "      border-right-color: var(--fill-color);\n",
              "      border-top-color: var(--fill-color);\n",
              "    }\n",
              "    60% {\n",
              "      border-color: transparent;\n",
              "      border-right-color: var(--fill-color);\n",
              "    }\n",
              "    80% {\n",
              "      border-color: transparent;\n",
              "      border-right-color: var(--fill-color);\n",
              "      border-bottom-color: var(--fill-color);\n",
              "    }\n",
              "    90% {\n",
              "      border-color: transparent;\n",
              "      border-bottom-color: var(--fill-color);\n",
              "    }\n",
              "  }\n",
              "</style>\n",
              "\n",
              "  <script>\n",
              "    async function quickchart(key) {\n",
              "      const quickchartButtonEl =\n",
              "        document.querySelector('#' + key + ' button');\n",
              "      quickchartButtonEl.disabled = true;  // To prevent multiple clicks.\n",
              "      quickchartButtonEl.classList.add('colab-df-spinner');\n",
              "      try {\n",
              "        const charts = await google.colab.kernel.invokeFunction(\n",
              "            'suggestCharts', [key], {});\n",
              "      } catch (error) {\n",
              "        console.error('Error during call to suggestCharts:', error);\n",
              "      }\n",
              "      quickchartButtonEl.classList.remove('colab-df-spinner');\n",
              "      quickchartButtonEl.classList.add('colab-df-quickchart-complete');\n",
              "    }\n",
              "    (() => {\n",
              "      let quickchartButtonEl =\n",
              "        document.querySelector('#df-43da1e17-d3cd-419b-9140-d9043a466374 button');\n",
              "      quickchartButtonEl.style.display =\n",
              "        google.colab.kernel.accessAllowed ? 'block' : 'none';\n",
              "    })();\n",
              "  </script>\n",
              "</div>\n",
              "\n",
              "  <div id=\"id_39465b37-70c0-47c6-80cc-4661d01e051c\">\n",
              "    <style>\n",
              "      .colab-df-generate {\n",
              "        background-color: #E8F0FE;\n",
              "        border: none;\n",
              "        border-radius: 50%;\n",
              "        cursor: pointer;\n",
              "        display: none;\n",
              "        fill: #1967D2;\n",
              "        height: 32px;\n",
              "        padding: 0 0 0 0;\n",
              "        width: 32px;\n",
              "      }\n",
              "\n",
              "      .colab-df-generate:hover {\n",
              "        background-color: #E2EBFA;\n",
              "        box-shadow: 0px 1px 2px rgba(60, 64, 67, 0.3), 0px 1px 3px 1px rgba(60, 64, 67, 0.15);\n",
              "        fill: #174EA6;\n",
              "      }\n",
              "\n",
              "      [theme=dark] .colab-df-generate {\n",
              "        background-color: #3B4455;\n",
              "        fill: #D2E3FC;\n",
              "      }\n",
              "\n",
              "      [theme=dark] .colab-df-generate:hover {\n",
              "        background-color: #434B5C;\n",
              "        box-shadow: 0px 1px 3px 1px rgba(0, 0, 0, 0.15);\n",
              "        filter: drop-shadow(0px 1px 2px rgba(0, 0, 0, 0.3));\n",
              "        fill: #FFFFFF;\n",
              "      }\n",
              "    </style>\n",
              "    <button class=\"colab-df-generate\" onclick=\"generateWithVariable('df')\"\n",
              "            title=\"Generate code using this dataframe.\"\n",
              "            style=\"display:none;\">\n",
              "\n",
              "  <svg xmlns=\"http://www.w3.org/2000/svg\" height=\"24px\"viewBox=\"0 0 24 24\"\n",
              "       width=\"24px\">\n",
              "    <path d=\"M7,19H8.4L18.45,9,17,7.55,7,17.6ZM5,21V16.75L18.45,3.32a2,2,0,0,1,2.83,0l1.4,1.43a1.91,1.91,0,0,1,.58,1.4,1.91,1.91,0,0,1-.58,1.4L9.25,21ZM18.45,9,17,7.55Zm-12,3A5.31,5.31,0,0,0,4.9,8.1,5.31,5.31,0,0,0,1,6.5,5.31,5.31,0,0,0,4.9,4.9,5.31,5.31,0,0,0,6.5,1,5.31,5.31,0,0,0,8.1,4.9,5.31,5.31,0,0,0,12,6.5,5.46,5.46,0,0,0,6.5,12Z\"/>\n",
              "  </svg>\n",
              "    </button>\n",
              "    <script>\n",
              "      (() => {\n",
              "      const buttonEl =\n",
              "        document.querySelector('#id_39465b37-70c0-47c6-80cc-4661d01e051c button.colab-df-generate');\n",
              "      buttonEl.style.display =\n",
              "        google.colab.kernel.accessAllowed ? 'block' : 'none';\n",
              "\n",
              "      buttonEl.onclick = () => {\n",
              "        google.colab.notebook.generateWithVariable('df');\n",
              "      }\n",
              "      })();\n",
              "    </script>\n",
              "  </div>\n",
              "\n",
              "    </div>\n",
              "  </div>\n"
            ],
            "application/vnd.google.colaboratory.intrinsic+json": {
              "type": "dataframe",
              "variable_name": "df",
              "summary": "{\n  \"name\": \"df\",\n  \"rows\": 986,\n  \"fields\": [\n    {\n      \"column\": \"Spacing\",\n      \"properties\": {\n        \"dtype\": \"number\",\n        \"std\": 0.4361849734473363,\n        \"min\": 1.0,\n        \"max\": 4.3,\n        \"num_unique_values\": 23,\n        \"samples\": [\n          2.3,\n          4.3,\n          3.0\n        ],\n        \"semantic_type\": \"\",\n        \"description\": \"\"\n      }\n    },\n    {\n      \"column\": \"Burden\",\n      \"properties\": {\n        \"dtype\": \"number\",\n        \"std\": 0.30248496332198677,\n        \"min\": 0.6,\n        \"max\": 4.0,\n        \"num_unique_values\": 21,\n        \"samples\": [\n          3.0,\n          4.0,\n          2.2\n        ],\n        \"semantic_type\": \"\",\n        \"description\": \"\"\n      }\n    },\n    {\n      \"column\": \"Powder Factor\",\n      \"properties\": {\n        \"dtype\": \"number\",\n        \"std\": 0.3005310852526584,\n        \"min\": 0.057,\n        \"max\": 8.33,\n        \"num_unique_values\": 89,\n        \"samples\": [\n          0.15,\n          0.94,\n          0.24\n        ],\n        \"semantic_type\": \"\",\n        \"description\": \"\"\n      }\n    },\n    {\n      \"column\": \"MCPD\",\n      \"properties\": {\n        \"dtype\": \"string\",\n        \"num_unique_values\": 688,\n        \"samples\": [\n          \"85\",\n          \"10.4\",\n          \"44.48\"\n        ],\n        \"semantic_type\": \"\",\n        \"description\": \"\"\n      }\n    },\n    {\n      \"column\": \"Distance\",\n      \"properties\": {\n        \"dtype\": \"number\",\n        \"std\": 124.22033667470517,\n        \"min\": 0.508,\n        \"max\": 740.0,\n        \"num_unique_values\": 145,\n        \"samples\": [\n          255.0,\n          5.72,\n          440.0\n        ],\n        \"semantic_type\": \"\",\n        \"description\": \"\"\n      }\n    },\n    {\n      \"column\": \"PPV\",\n      \"properties\": {\n        \"dtype\": \"number\",\n        \"std\": 105.81758597963862,\n        \"min\": 0.0397,\n        \"max\": 620.0,\n        \"num_unique_values\": 337,\n        \"samples\": [\n          3.81,\n          2.83,\n          0.88\n        ],\n        \"semantic_type\": \"\",\n        \"description\": \"\"\n      }\n    }\n  ]\n}"
            }
          },
          "metadata": {},
          "execution_count": 3
        }
      ]
    },
    {
      "cell_type": "code",
      "source": [
        "df.isnull().sum()"
      ],
      "metadata": {
        "colab": {
          "base_uri": "https://localhost:8080/",
          "height": 272
        },
        "id": "m8kngNlLRTix",
        "outputId": "2d5d417a-4ec6-4ce8-9036-827def08931b"
      },
      "execution_count": 4,
      "outputs": [
        {
          "output_type": "execute_result",
          "data": {
            "text/plain": [
              "Spacing           0\n",
              "Burden            0\n",
              "Powder Factor     0\n",
              "MCPD              1\n",
              "Distance         56\n",
              "PPV              91\n",
              "dtype: int64"
            ],
            "text/html": [
              "<div>\n",
              "<style scoped>\n",
              "    .dataframe tbody tr th:only-of-type {\n",
              "        vertical-align: middle;\n",
              "    }\n",
              "\n",
              "    .dataframe tbody tr th {\n",
              "        vertical-align: top;\n",
              "    }\n",
              "\n",
              "    .dataframe thead th {\n",
              "        text-align: right;\n",
              "    }\n",
              "</style>\n",
              "<table border=\"1\" class=\"dataframe\">\n",
              "  <thead>\n",
              "    <tr style=\"text-align: right;\">\n",
              "      <th></th>\n",
              "      <th>0</th>\n",
              "    </tr>\n",
              "  </thead>\n",
              "  <tbody>\n",
              "    <tr>\n",
              "      <th>Spacing</th>\n",
              "      <td>0</td>\n",
              "    </tr>\n",
              "    <tr>\n",
              "      <th>Burden</th>\n",
              "      <td>0</td>\n",
              "    </tr>\n",
              "    <tr>\n",
              "      <th>Powder Factor</th>\n",
              "      <td>0</td>\n",
              "    </tr>\n",
              "    <tr>\n",
              "      <th>MCPD</th>\n",
              "      <td>1</td>\n",
              "    </tr>\n",
              "    <tr>\n",
              "      <th>Distance</th>\n",
              "      <td>56</td>\n",
              "    </tr>\n",
              "    <tr>\n",
              "      <th>PPV</th>\n",
              "      <td>91</td>\n",
              "    </tr>\n",
              "  </tbody>\n",
              "</table>\n",
              "</div><br><label><b>dtype:</b> int64</label>"
            ]
          },
          "metadata": {},
          "execution_count": 4
        }
      ]
    },
    {
      "cell_type": "code",
      "source": [
        "df =df.replace(\"NA\", \" \")\n",
        "df =df.replace(' NA', \" \")\n",
        "df = df.replace(r'^\\s*$', np.nan, regex=True)\n",
        "blast_data =df.dropna( axis=0)"
      ],
      "metadata": {
        "id": "65uYWNOaRZmQ"
      },
      "execution_count": 5,
      "outputs": []
    },
    {
      "cell_type": "code",
      "source": [
        "blast_data.info()"
      ],
      "metadata": {
        "colab": {
          "base_uri": "https://localhost:8080/"
        },
        "id": "lHmUZvReRbVg",
        "outputId": "80a8514c-8cc5-47f8-f915-ad2939fecb79"
      },
      "execution_count": 6,
      "outputs": [
        {
          "output_type": "stream",
          "name": "stdout",
          "text": [
            "<class 'pandas.core.frame.DataFrame'>\n",
            "Index: 892 entries, 0 to 985\n",
            "Data columns (total 6 columns):\n",
            " #   Column         Non-Null Count  Dtype  \n",
            "---  ------         --------------  -----  \n",
            " 0   Spacing        892 non-null    float64\n",
            " 1   Burden         892 non-null    float64\n",
            " 2   Powder Factor  892 non-null    float64\n",
            " 3   MCPD           892 non-null    object \n",
            " 4   Distance       892 non-null    float64\n",
            " 5   PPV            892 non-null    float64\n",
            "dtypes: float64(5), object(1)\n",
            "memory usage: 48.8+ KB\n"
          ]
        }
      ]
    },
    {
      "cell_type": "code",
      "source": [
        "blast_data=blast_data.astype(float)"
      ],
      "metadata": {
        "id": "9tNG0GcYRctj"
      },
      "execution_count": 7,
      "outputs": []
    },
    {
      "cell_type": "code",
      "source": [
        "blast_data.describe()"
      ],
      "metadata": {
        "colab": {
          "base_uri": "https://localhost:8080/",
          "height": 300
        },
        "id": "lkuj3y5ORf0F",
        "outputId": "13600079-ab6e-41ab-d65a-3fa917f0f5e5"
      },
      "execution_count": 8,
      "outputs": [
        {
          "output_type": "execute_result",
          "data": {
            "text/plain": [
              "          Spacing      Burden  Powder Factor        MCPD    Distance  \\\n",
              "count  892.000000  892.000000     892.000000  892.000000  892.000000   \n",
              "mean     3.325673    2.935146       0.511742   95.648553  348.164371   \n",
              "std      0.400606    0.257548       0.288341   69.202316  121.847382   \n",
              "min      1.000000    0.900000       0.090000    5.000000    0.508000   \n",
              "25%      3.000000    2.800000       0.440000   42.500000  310.000000   \n",
              "50%      3.200000    3.000000       0.510000   77.570000  370.000000   \n",
              "75%      3.500000    3.000000       0.570000  134.155000  410.000000   \n",
              "max      4.300000    4.000000       8.330000  410.000000  740.000000   \n",
              "\n",
              "              PPV  \n",
              "count  892.000000  \n",
              "mean    29.912667  \n",
              "std    100.715235  \n",
              "min      0.039700  \n",
              "25%      1.360000  \n",
              "50%      2.410000  \n",
              "75%      4.700000  \n",
              "max    590.000000  "
            ],
            "text/html": [
              "\n",
              "  <div id=\"df-a29a4aa6-a0ac-43aa-afbc-be9fa6a21b0c\" class=\"colab-df-container\">\n",
              "    <div>\n",
              "<style scoped>\n",
              "    .dataframe tbody tr th:only-of-type {\n",
              "        vertical-align: middle;\n",
              "    }\n",
              "\n",
              "    .dataframe tbody tr th {\n",
              "        vertical-align: top;\n",
              "    }\n",
              "\n",
              "    .dataframe thead th {\n",
              "        text-align: right;\n",
              "    }\n",
              "</style>\n",
              "<table border=\"1\" class=\"dataframe\">\n",
              "  <thead>\n",
              "    <tr style=\"text-align: right;\">\n",
              "      <th></th>\n",
              "      <th>Spacing</th>\n",
              "      <th>Burden</th>\n",
              "      <th>Powder Factor</th>\n",
              "      <th>MCPD</th>\n",
              "      <th>Distance</th>\n",
              "      <th>PPV</th>\n",
              "    </tr>\n",
              "  </thead>\n",
              "  <tbody>\n",
              "    <tr>\n",
              "      <th>count</th>\n",
              "      <td>892.000000</td>\n",
              "      <td>892.000000</td>\n",
              "      <td>892.000000</td>\n",
              "      <td>892.000000</td>\n",
              "      <td>892.000000</td>\n",
              "      <td>892.000000</td>\n",
              "    </tr>\n",
              "    <tr>\n",
              "      <th>mean</th>\n",
              "      <td>3.325673</td>\n",
              "      <td>2.935146</td>\n",
              "      <td>0.511742</td>\n",
              "      <td>95.648553</td>\n",
              "      <td>348.164371</td>\n",
              "      <td>29.912667</td>\n",
              "    </tr>\n",
              "    <tr>\n",
              "      <th>std</th>\n",
              "      <td>0.400606</td>\n",
              "      <td>0.257548</td>\n",
              "      <td>0.288341</td>\n",
              "      <td>69.202316</td>\n",
              "      <td>121.847382</td>\n",
              "      <td>100.715235</td>\n",
              "    </tr>\n",
              "    <tr>\n",
              "      <th>min</th>\n",
              "      <td>1.000000</td>\n",
              "      <td>0.900000</td>\n",
              "      <td>0.090000</td>\n",
              "      <td>5.000000</td>\n",
              "      <td>0.508000</td>\n",
              "      <td>0.039700</td>\n",
              "    </tr>\n",
              "    <tr>\n",
              "      <th>25%</th>\n",
              "      <td>3.000000</td>\n",
              "      <td>2.800000</td>\n",
              "      <td>0.440000</td>\n",
              "      <td>42.500000</td>\n",
              "      <td>310.000000</td>\n",
              "      <td>1.360000</td>\n",
              "    </tr>\n",
              "    <tr>\n",
              "      <th>50%</th>\n",
              "      <td>3.200000</td>\n",
              "      <td>3.000000</td>\n",
              "      <td>0.510000</td>\n",
              "      <td>77.570000</td>\n",
              "      <td>370.000000</td>\n",
              "      <td>2.410000</td>\n",
              "    </tr>\n",
              "    <tr>\n",
              "      <th>75%</th>\n",
              "      <td>3.500000</td>\n",
              "      <td>3.000000</td>\n",
              "      <td>0.570000</td>\n",
              "      <td>134.155000</td>\n",
              "      <td>410.000000</td>\n",
              "      <td>4.700000</td>\n",
              "    </tr>\n",
              "    <tr>\n",
              "      <th>max</th>\n",
              "      <td>4.300000</td>\n",
              "      <td>4.000000</td>\n",
              "      <td>8.330000</td>\n",
              "      <td>410.000000</td>\n",
              "      <td>740.000000</td>\n",
              "      <td>590.000000</td>\n",
              "    </tr>\n",
              "  </tbody>\n",
              "</table>\n",
              "</div>\n",
              "    <div class=\"colab-df-buttons\">\n",
              "\n",
              "  <div class=\"colab-df-container\">\n",
              "    <button class=\"colab-df-convert\" onclick=\"convertToInteractive('df-a29a4aa6-a0ac-43aa-afbc-be9fa6a21b0c')\"\n",
              "            title=\"Convert this dataframe to an interactive table.\"\n",
              "            style=\"display:none;\">\n",
              "\n",
              "  <svg xmlns=\"http://www.w3.org/2000/svg\" height=\"24px\" viewBox=\"0 -960 960 960\">\n",
              "    <path d=\"M120-120v-720h720v720H120Zm60-500h600v-160H180v160Zm220 220h160v-160H400v160Zm0 220h160v-160H400v160ZM180-400h160v-160H180v160Zm440 0h160v-160H620v160ZM180-180h160v-160H180v160Zm440 0h160v-160H620v160Z\"/>\n",
              "  </svg>\n",
              "    </button>\n",
              "\n",
              "  <style>\n",
              "    .colab-df-container {\n",
              "      display:flex;\n",
              "      gap: 12px;\n",
              "    }\n",
              "\n",
              "    .colab-df-convert {\n",
              "      background-color: #E8F0FE;\n",
              "      border: none;\n",
              "      border-radius: 50%;\n",
              "      cursor: pointer;\n",
              "      display: none;\n",
              "      fill: #1967D2;\n",
              "      height: 32px;\n",
              "      padding: 0 0 0 0;\n",
              "      width: 32px;\n",
              "    }\n",
              "\n",
              "    .colab-df-convert:hover {\n",
              "      background-color: #E2EBFA;\n",
              "      box-shadow: 0px 1px 2px rgba(60, 64, 67, 0.3), 0px 1px 3px 1px rgba(60, 64, 67, 0.15);\n",
              "      fill: #174EA6;\n",
              "    }\n",
              "\n",
              "    .colab-df-buttons div {\n",
              "      margin-bottom: 4px;\n",
              "    }\n",
              "\n",
              "    [theme=dark] .colab-df-convert {\n",
              "      background-color: #3B4455;\n",
              "      fill: #D2E3FC;\n",
              "    }\n",
              "\n",
              "    [theme=dark] .colab-df-convert:hover {\n",
              "      background-color: #434B5C;\n",
              "      box-shadow: 0px 1px 3px 1px rgba(0, 0, 0, 0.15);\n",
              "      filter: drop-shadow(0px 1px 2px rgba(0, 0, 0, 0.3));\n",
              "      fill: #FFFFFF;\n",
              "    }\n",
              "  </style>\n",
              "\n",
              "    <script>\n",
              "      const buttonEl =\n",
              "        document.querySelector('#df-a29a4aa6-a0ac-43aa-afbc-be9fa6a21b0c button.colab-df-convert');\n",
              "      buttonEl.style.display =\n",
              "        google.colab.kernel.accessAllowed ? 'block' : 'none';\n",
              "\n",
              "      async function convertToInteractive(key) {\n",
              "        const element = document.querySelector('#df-a29a4aa6-a0ac-43aa-afbc-be9fa6a21b0c');\n",
              "        const dataTable =\n",
              "          await google.colab.kernel.invokeFunction('convertToInteractive',\n",
              "                                                    [key], {});\n",
              "        if (!dataTable) return;\n",
              "\n",
              "        const docLinkHtml = 'Like what you see? Visit the ' +\n",
              "          '<a target=\"_blank\" href=https://colab.research.google.com/notebooks/data_table.ipynb>data table notebook</a>'\n",
              "          + ' to learn more about interactive tables.';\n",
              "        element.innerHTML = '';\n",
              "        dataTable['output_type'] = 'display_data';\n",
              "        await google.colab.output.renderOutput(dataTable, element);\n",
              "        const docLink = document.createElement('div');\n",
              "        docLink.innerHTML = docLinkHtml;\n",
              "        element.appendChild(docLink);\n",
              "      }\n",
              "    </script>\n",
              "  </div>\n",
              "\n",
              "\n",
              "<div id=\"df-9350a598-7618-4912-ba78-837b7b66f232\">\n",
              "  <button class=\"colab-df-quickchart\" onclick=\"quickchart('df-9350a598-7618-4912-ba78-837b7b66f232')\"\n",
              "            title=\"Suggest charts\"\n",
              "            style=\"display:none;\">\n",
              "\n",
              "<svg xmlns=\"http://www.w3.org/2000/svg\" height=\"24px\"viewBox=\"0 0 24 24\"\n",
              "     width=\"24px\">\n",
              "    <g>\n",
              "        <path d=\"M19 3H5c-1.1 0-2 .9-2 2v14c0 1.1.9 2 2 2h14c1.1 0 2-.9 2-2V5c0-1.1-.9-2-2-2zM9 17H7v-7h2v7zm4 0h-2V7h2v10zm4 0h-2v-4h2v4z\"/>\n",
              "    </g>\n",
              "</svg>\n",
              "  </button>\n",
              "\n",
              "<style>\n",
              "  .colab-df-quickchart {\n",
              "      --bg-color: #E8F0FE;\n",
              "      --fill-color: #1967D2;\n",
              "      --hover-bg-color: #E2EBFA;\n",
              "      --hover-fill-color: #174EA6;\n",
              "      --disabled-fill-color: #AAA;\n",
              "      --disabled-bg-color: #DDD;\n",
              "  }\n",
              "\n",
              "  [theme=dark] .colab-df-quickchart {\n",
              "      --bg-color: #3B4455;\n",
              "      --fill-color: #D2E3FC;\n",
              "      --hover-bg-color: #434B5C;\n",
              "      --hover-fill-color: #FFFFFF;\n",
              "      --disabled-bg-color: #3B4455;\n",
              "      --disabled-fill-color: #666;\n",
              "  }\n",
              "\n",
              "  .colab-df-quickchart {\n",
              "    background-color: var(--bg-color);\n",
              "    border: none;\n",
              "    border-radius: 50%;\n",
              "    cursor: pointer;\n",
              "    display: none;\n",
              "    fill: var(--fill-color);\n",
              "    height: 32px;\n",
              "    padding: 0;\n",
              "    width: 32px;\n",
              "  }\n",
              "\n",
              "  .colab-df-quickchart:hover {\n",
              "    background-color: var(--hover-bg-color);\n",
              "    box-shadow: 0 1px 2px rgba(60, 64, 67, 0.3), 0 1px 3px 1px rgba(60, 64, 67, 0.15);\n",
              "    fill: var(--button-hover-fill-color);\n",
              "  }\n",
              "\n",
              "  .colab-df-quickchart-complete:disabled,\n",
              "  .colab-df-quickchart-complete:disabled:hover {\n",
              "    background-color: var(--disabled-bg-color);\n",
              "    fill: var(--disabled-fill-color);\n",
              "    box-shadow: none;\n",
              "  }\n",
              "\n",
              "  .colab-df-spinner {\n",
              "    border: 2px solid var(--fill-color);\n",
              "    border-color: transparent;\n",
              "    border-bottom-color: var(--fill-color);\n",
              "    animation:\n",
              "      spin 1s steps(1) infinite;\n",
              "  }\n",
              "\n",
              "  @keyframes spin {\n",
              "    0% {\n",
              "      border-color: transparent;\n",
              "      border-bottom-color: var(--fill-color);\n",
              "      border-left-color: var(--fill-color);\n",
              "    }\n",
              "    20% {\n",
              "      border-color: transparent;\n",
              "      border-left-color: var(--fill-color);\n",
              "      border-top-color: var(--fill-color);\n",
              "    }\n",
              "    30% {\n",
              "      border-color: transparent;\n",
              "      border-left-color: var(--fill-color);\n",
              "      border-top-color: var(--fill-color);\n",
              "      border-right-color: var(--fill-color);\n",
              "    }\n",
              "    40% {\n",
              "      border-color: transparent;\n",
              "      border-right-color: var(--fill-color);\n",
              "      border-top-color: var(--fill-color);\n",
              "    }\n",
              "    60% {\n",
              "      border-color: transparent;\n",
              "      border-right-color: var(--fill-color);\n",
              "    }\n",
              "    80% {\n",
              "      border-color: transparent;\n",
              "      border-right-color: var(--fill-color);\n",
              "      border-bottom-color: var(--fill-color);\n",
              "    }\n",
              "    90% {\n",
              "      border-color: transparent;\n",
              "      border-bottom-color: var(--fill-color);\n",
              "    }\n",
              "  }\n",
              "</style>\n",
              "\n",
              "  <script>\n",
              "    async function quickchart(key) {\n",
              "      const quickchartButtonEl =\n",
              "        document.querySelector('#' + key + ' button');\n",
              "      quickchartButtonEl.disabled = true;  // To prevent multiple clicks.\n",
              "      quickchartButtonEl.classList.add('colab-df-spinner');\n",
              "      try {\n",
              "        const charts = await google.colab.kernel.invokeFunction(\n",
              "            'suggestCharts', [key], {});\n",
              "      } catch (error) {\n",
              "        console.error('Error during call to suggestCharts:', error);\n",
              "      }\n",
              "      quickchartButtonEl.classList.remove('colab-df-spinner');\n",
              "      quickchartButtonEl.classList.add('colab-df-quickchart-complete');\n",
              "    }\n",
              "    (() => {\n",
              "      let quickchartButtonEl =\n",
              "        document.querySelector('#df-9350a598-7618-4912-ba78-837b7b66f232 button');\n",
              "      quickchartButtonEl.style.display =\n",
              "        google.colab.kernel.accessAllowed ? 'block' : 'none';\n",
              "    })();\n",
              "  </script>\n",
              "</div>\n",
              "\n",
              "    </div>\n",
              "  </div>\n"
            ],
            "application/vnd.google.colaboratory.intrinsic+json": {
              "type": "dataframe",
              "summary": "{\n  \"name\": \"blast_data\",\n  \"rows\": 8,\n  \"fields\": [\n    {\n      \"column\": \"Spacing\",\n      \"properties\": {\n        \"dtype\": \"number\",\n        \"std\": 314.42655429399093,\n        \"min\": 0.4006057372180061,\n        \"max\": 892.0,\n        \"num_unique_values\": 8,\n        \"samples\": [\n          3.325672645739911,\n          3.2,\n          892.0\n        ],\n        \"semantic_type\": \"\",\n        \"description\": \"\"\n      }\n    },\n    {\n      \"column\": \"Burden\",\n      \"properties\": {\n        \"dtype\": \"number\",\n        \"std\": 314.5188139787279,\n        \"min\": 0.25754753095326954,\n        \"max\": 892.0,\n        \"num_unique_values\": 7,\n        \"samples\": [\n          892.0,\n          2.9351457399103134,\n          3.0\n        ],\n        \"semantic_type\": \"\",\n        \"description\": \"\"\n      }\n    },\n    {\n      \"column\": \"Powder Factor\",\n      \"properties\": {\n        \"dtype\": \"number\",\n        \"std\": 314.8394292578671,\n        \"min\": 0.09,\n        \"max\": 892.0,\n        \"num_unique_values\": 8,\n        \"samples\": [\n          0.5117420812612108,\n          0.51,\n          892.0\n        ],\n        \"semantic_type\": \"\",\n        \"description\": \"\"\n      }\n    },\n    {\n      \"column\": \"MCPD\",\n      \"properties\": {\n        \"dtype\": \"number\",\n        \"std\": 300.2689953345908,\n        \"min\": 5.0,\n        \"max\": 892.0,\n        \"num_unique_values\": 8,\n        \"samples\": [\n          95.64855325112107,\n          77.57,\n          892.0\n        ],\n        \"semantic_type\": \"\",\n        \"description\": \"\"\n      }\n    },\n    {\n      \"column\": \"Distance\",\n      \"properties\": {\n        \"dtype\": \"number\",\n        \"std\": 294.32894018807093,\n        \"min\": 0.508,\n        \"max\": 892.0,\n        \"num_unique_values\": 8,\n        \"samples\": [\n          348.1643710762332,\n          370.0,\n          892.0\n        ],\n        \"semantic_type\": \"\",\n        \"description\": \"\"\n      }\n    },\n    {\n      \"column\": \"PPV\",\n      \"properties\": {\n        \"dtype\": \"number\",\n        \"std\": 343.5780603881735,\n        \"min\": 0.0397,\n        \"max\": 892.0,\n        \"num_unique_values\": 8,\n        \"samples\": [\n          29.912666704035868,\n          2.41,\n          892.0\n        ],\n        \"semantic_type\": \"\",\n        \"description\": \"\"\n      }\n    }\n  ]\n}"
            }
          },
          "metadata": {},
          "execution_count": 8
        }
      ]
    },
    {
      "cell_type": "code",
      "source": [
        "xaxis = 'Spacing'\n",
        "yaxis = 'PPV'\n",
        "plt.scatter(blast_data[xaxis], blast_data[yaxis] )\n",
        "plt.xlabel(xaxis)\n",
        "plt.ylabel(yaxis)\n",
        "plt.title(\"Spacing V/s PPV\")\n",
        "m, b = np.polyfit(blast_data[xaxis], blast_data[yaxis], 1)\n",
        "plt.plot(blast_data[xaxis], m*blast_data[xaxis] + b, color='red')\n",
        "plt.show()\n",
        "print(f'Trend line: y = {m:.2f}x + {b:.2f}')"
      ],
      "metadata": {
        "colab": {
          "base_uri": "https://localhost:8080/",
          "height": 489
        },
        "id": "aO3bwWgjRhfK",
        "outputId": "e9530f44-d1c2-46c8-ccb2-dac16f395ea7"
      },
      "execution_count": 9,
      "outputs": [
        {
          "output_type": "display_data",
          "data": {
            "text/plain": [
              "<Figure size 640x480 with 1 Axes>"
            ],
            "image/png": "[encoded data removed]"
          },
          "metadata": {}
        },
        {
          "output_type": "stream",
          "name": "stdout",
          "text": [
            "Trend line: y = 16.20x + -23.95\n"
          ]
        }
      ]
    },
    {
      "cell_type": "code",
      "source": [
        "xaxis = 'Burden'\n",
        "yaxis = 'PPV'\n",
        "plt.scatter(blast_data[xaxis], blast_data[yaxis] )\n",
        "plt.xlabel(xaxis)\n",
        "plt.ylabel(yaxis)\n",
        "title = str(xaxis) + \" Vs PPV\"\n",
        "plt.title(title)\n",
        "m, b = np.polyfit(blast_data[xaxis], blast_data[yaxis], 1)\n",
        "plt.plot(blast_data[xaxis], m*blast_data[xaxis] + b, color='red')\n",
        "plt.show()\n",
        "print(f'Trend line: y = {m:.2f}x + {b:.2f}')"
      ],
      "metadata": {
        "colab": {
          "base_uri": "https://localhost:8080/",
          "height": 489
        },
        "id": "pMvj5p2aRjBP",
        "outputId": "12273fef-1aa9-421c-de1a-1886ea0707a9"
      },
      "execution_count": 10,
      "outputs": [
        {
          "output_type": "display_data",
          "data": {
            "text/plain": [
              "<Figure size 640x480 with 1 Axes>"
            ],
            "image/png": "[encoded data removed]"
          },
          "metadata": {}
        },
        {
          "output_type": "stream",
          "name": "stdout",
          "text": [
            "Trend line: y = 35.35x + -73.83\n"
          ]
        }
      ]
    },
    {
      "cell_type": "code",
      "source": [
        "xaxis = 'Powder Factor'\n",
        "yaxis = 'PPV'\n",
        "plt.scatter(blast_data[xaxis], blast_data[yaxis] )\n",
        "plt.xlabel(xaxis)\n",
        "plt.ylabel(yaxis)\n",
        "title = str(xaxis) + \" Vs PPV\"\n",
        "plt.title(title)\n",
        "m, b = np.polyfit(blast_data[xaxis], blast_data[yaxis], 1)\n",
        "plt.plot(blast_data[xaxis], m*blast_data[xaxis] + b, color='red')\n",
        "plt.show()\n",
        "print(f'Trend line: y = {m:.2f}x + {b:.2f}')"
      ],
      "metadata": {
        "colab": {
          "base_uri": "https://localhost:8080/",
          "height": 489
        },
        "id": "qdMyIeKARlER",
        "outputId": "875bb4ac-94f7-4588-c40a-901058f6f066"
      },
      "execution_count": 11,
      "outputs": [
        {
          "output_type": "display_data",
          "data": {
            "text/plain": [
              "<Figure size 640x480 with 1 Axes>"
            ],
            "image/png": "[encoded data removed]"
          },
          "metadata": {}
        },
        {
          "output_type": "stream",
          "name": "stdout",
          "text": [
            "Trend line: y = 14.29x + 22.60\n"
          ]
        }
      ]
    },
    {
      "cell_type": "code",
      "source": [
        "xaxis = 'MCPD'\n",
        "yaxis = 'PPV'\n",
        "plt.scatter(blast_data[xaxis], blast_data[yaxis] )\n",
        "plt.xlabel(xaxis)\n",
        "plt.ylabel(yaxis)\n",
        "title = str(xaxis) + \" Vs PPV\"\n",
        "plt.title(title)\n",
        "m, b = np.polyfit(blast_data[xaxis], blast_data[yaxis], 1)\n",
        "plt.plot(blast_data[xaxis], m*blast_data[xaxis] + b, color='red')\n",
        "plt.show()\n",
        "print(f'Trend line: y = {m:.2f}x + {b:.2f}')"
      ],
      "metadata": {
        "colab": {
          "base_uri": "https://localhost:8080/",
          "height": 489
        },
        "id": "EH3OJWVZRm37",
        "outputId": "f5a7df15-e68e-4cd2-8913-ae8d5bcf8e43"
      },
      "execution_count": 12,
      "outputs": [
        {
          "output_type": "display_data",
          "data": {
            "text/plain": [
              "<Figure size 640x480 with 1 Axes>"
            ],
            "image/png": "[encoded data removed]"
          },
          "metadata": {}
        },
        {
          "output_type": "stream",
          "name": "stdout",
          "text": [
            "Trend line: y = 0.32x + -0.34\n"
          ]
        }
      ]
    },
    {
      "cell_type": "code",
      "source": [
        "xaxis = 'Distance'\n",
        "yaxis = 'PPV'\n",
        "plt.scatter(blast_data[xaxis], blast_data[yaxis] )\n",
        "plt.xlabel(xaxis)\n",
        "plt.ylabel(yaxis)\n",
        "title = str(xaxis) + \" Vs PPV\"\n",
        "plt.title(title)\n",
        "m, b = np.polyfit(blast_data[xaxis], blast_data[yaxis], 1)\n",
        "plt.plot(blast_data[xaxis], m*blast_data[xaxis] + b, color='red')\n",
        "plt.show()\n",
        "print(f'Trend line: y = {m:.2f}x + {b:.2f}')"
      ],
      "metadata": {
        "colab": {
          "base_uri": "https://localhost:8080/",
          "height": 489
        },
        "id": "h13_0upORoru",
        "outputId": "d9a080d3-3d36-46d6-c1fb-092b7b2e761a"
      },
      "execution_count": 13,
      "outputs": [
        {
          "output_type": "display_data",
          "data": {
            "text/plain": [
              "<Figure size 640x480 with 1 Axes>"
            ],
            "image/png": "[encoded data removed]"
          },
          "metadata": {}
        },
        {
          "output_type": "stream",
          "name": "stdout",
          "text": [
            "Trend line: y = -0.62x + 246.89\n"
          ]
        }
      ]
    },
    {
      "cell_type": "code",
      "source": [
        "x = blast_data.iloc[:, :-1].values\n",
        "y = blast_data.iloc[:, -1].values"
      ],
      "metadata": {
        "id": "poTBEz5PRqet"
      },
      "execution_count": 14,
      "outputs": []
    },
    {
      "cell_type": "code",
      "source": [
        "scaler = StandardScaler()\n",
        "x_scaled = scaler.fit_transform(x)"
      ],
      "metadata": {
        "id": "GxyCwPB_RtEA"
      },
      "execution_count": 15,
      "outputs": []
    },
    {
      "cell_type": "code",
      "source": [
        "x_train, x_test, y_train, y_test = train_test_split(x_scaled,y, test_size = 0.15, random_state = 1)\n",
        "x_train = np.tile(x_train, (20,1))\n",
        "y_train = np.tile(y_train, 20)\n",
        "print(x_train.shape)\n",
        "print(y_train.shape)\n",
        "print(x_test.shape)\n",
        "print(y_test.shape)\n"
      ],
      "metadata": {
        "colab": {
          "base_uri": "https://localhost:8080/"
        },
        "id": "judvPUVdRung",
        "outputId": "313cab24-a663-42db-8075-d5d80bd38911"
      },
      "execution_count": 16,
      "outputs": [
        {
          "output_type": "stream",
          "name": "stdout",
          "text": [
            "(15160, 5)\n",
            "(15160,)\n",
            "(134, 5)\n",
            "(134,)\n"
          ]
        }
      ]
    },
    {
      "cell_type": "code",
      "source": [
        "model = Sequential([\n",
        "    Dense(15, activation=\"relu\", kernel_regularizer=regularizers.l1(0.0001), input_dim=5),\n",
        "    Dense(20, activation=\"relu\", kernel_regularizer=regularizers.l1(0.0001)),\n",
        "    Dense(10, activation=\"relu\", kernel_regularizer=regularizers.l1(0.0001)),\n",
        "    Dense(10, activation=\"relu\", kernel_regularizer=regularizers.l1(0.0001)),\n",
        "    Dense(5, activation=\"relu\", kernel_regularizer=regularizers.l1(0.0001)),\n",
        "    Dense(1, activation=\"relu\", kernel_regularizer=regularizers.l1(0.0001))\n",
        "])\n"
      ],
      "metadata": {
        "colab": {
          "base_uri": "https://localhost:8080/"
        },
        "id": "ReuXoG5QRwDL",
        "outputId": "7130edee-c415-4090-d345-5f9475578b80"
      },
      "execution_count": 20,
      "outputs": [
        {
          "output_type": "stream",
          "name": "stderr",
          "text": [
            "/usr/local/lib/python3.10/dist-packages/keras/src/layers/core/dense.py:87: UserWarning: Do not pass an `input_shape`/`input_dim` argument to a layer. When using Sequential models, prefer using an `Input(shape)` object as the first layer in the model instead.\n",
            "  super().__init__(activity_regularizer=activity_regularizer, **kwargs)\n"
          ]
        }
      ]
    },
    {
      "cell_type": "code",
      "source": [
        "model.compile(optimizer=\"adam\", loss='mean_squared_error')\n"
      ],
      "metadata": {
        "id": "Wrk8F4zgRyLT"
      },
      "execution_count": 21,
      "outputs": []
    },
    {
      "cell_type": "code",
      "source": [
        "model_perform =model.fit(x_train,y_train, epochs=35, steps_per_epoch=110, validation_data = (x_test, y_test), validation_split=0.15)"
      ],
      "metadata": {
        "colab": {
          "base_uri": "https://localhost:8080/"
        },
        "id": "EOU-jYAlSEhO",
        "outputId": "e29430f1-6b16-46c6-f9ee-1c5df647bc91"
      },
      "execution_count": 22,
      "outputs": [
        {
          "output_type": "stream",
          "name": "stdout",
          "text": [
            "Epoch 1/35\n",
            "\u001b[1m110/110\u001b[0m \u001b[32m━━━━━━━━━━━━━━━━━━━━\u001b[0m\u001b[37m\u001b[0m \u001b[1m5s\u001b[0m 4ms/step - loss: 10152.2305 - val_loss: 15402.6621\n",
            "Epoch 2/35\n",
            "\u001b[1m110/110\u001b[0m \u001b[32m━━━━━━━━━━━━━━━━━━━━\u001b[0m\u001b[37m\u001b[0m \u001b[1m0s\u001b[0m 402us/step - loss: 0.0000e+00 - val_loss: 15402.6621\n",
            "Epoch 3/35\n",
            "\u001b[1m 50/110\u001b[0m \u001b[32m━━━━━━━━━\u001b[0m\u001b[37m━━━━━━━━━━━\u001b[0m \u001b[1m0s\u001b[0m 2ms/step - loss: 8698.0957"
          ]
        },
        {
          "output_type": "stream",
          "name": "stderr",
          "text": [
            "/usr/lib/python3.10/contextlib.py:153: UserWarning: Your input ran out of data; interrupting training. Make sure that your dataset or generator can generate at least `steps_per_epoch * epochs` batches. You may need to use the `.repeat()` function when building your dataset.\n",
            "  self.gen.throw(typ, value, traceback)\n"
          ]
        },
        {
          "output_type": "stream",
          "name": "stdout",
          "text": [
            "\u001b[1m110/110\u001b[0m \u001b[32m━━━━━━━━━━━━━━━━━━━━\u001b[0m\u001b[37m\u001b[0m \u001b[1m0s\u001b[0m 2ms/step - loss: 7781.5776 - val_loss: 3796.7085\n",
            "Epoch 4/35\n",
            "\u001b[1m110/110\u001b[0m \u001b[32m━━━━━━━━━━━━━━━━━━━━\u001b[0m\u001b[37m\u001b[0m \u001b[1m0s\u001b[0m 350us/step - loss: 0.0000e+00 - val_loss: 3796.7085\n",
            "Epoch 5/35\n",
            "\u001b[1m110/110\u001b[0m \u001b[32m━━━━━━━━━━━━━━━━━━━━\u001b[0m\u001b[37m\u001b[0m \u001b[1m0s\u001b[0m 3ms/step - loss: 1828.4178 - val_loss: 1214.7874\n",
            "Epoch 6/35\n",
            "\u001b[1m110/110\u001b[0m \u001b[32m━━━━━━━━━━━━━━━━━━━━\u001b[0m\u001b[37m\u001b[0m \u001b[1m0s\u001b[0m 433us/step - loss: 0.0000e+00 - val_loss: 1214.7874\n",
            "Epoch 7/35\n",
            "\u001b[1m110/110\u001b[0m \u001b[32m━━━━━━━━━━━━━━━━━━━━\u001b[0m\u001b[37m\u001b[0m \u001b[1m1s\u001b[0m 2ms/step - loss: 1047.1356 - val_loss: 929.4476\n",
            "Epoch 8/35\n",
            "\u001b[1m110/110\u001b[0m \u001b[32m━━━━━━━━━━━━━━━━━━━━\u001b[0m\u001b[37m\u001b[0m \u001b[1m0s\u001b[0m 459us/step - loss: 0.0000e+00 - val_loss: 929.4476\n",
            "Epoch 9/35\n",
            "\u001b[1m110/110\u001b[0m \u001b[32m━━━━━━━━━━━━━━━━━━━━\u001b[0m\u001b[37m\u001b[0m \u001b[1m1s\u001b[0m 2ms/step - loss: 865.1284 - val_loss: 736.7682\n",
            "Epoch 10/35\n",
            "\u001b[1m110/110\u001b[0m \u001b[32m━━━━━━━━━━━━━━━━━━━━\u001b[0m\u001b[37m\u001b[0m \u001b[1m0s\u001b[0m 424us/step - loss: 0.0000e+00 - val_loss: 736.7682\n",
            "Epoch 11/35\n",
            "\u001b[1m110/110\u001b[0m \u001b[32m━━━━━━━━━━━━━━━━━━━━\u001b[0m\u001b[37m\u001b[0m \u001b[1m1s\u001b[0m 2ms/step - loss: 754.2962 - val_loss: 588.1321\n",
            "Epoch 12/35\n",
            "\u001b[1m110/110\u001b[0m \u001b[32m━━━━━━━━━━━━━━━━━━━━\u001b[0m\u001b[37m\u001b[0m \u001b[1m0s\u001b[0m 514us/step - loss: 0.0000e+00 - val_loss: 588.1321\n",
            "Epoch 13/35\n",
            "\u001b[1m110/110\u001b[0m \u001b[32m━━━━━━━━━━━━━━━━━━━━\u001b[0m\u001b[37m\u001b[0m \u001b[1m0s\u001b[0m 2ms/step - loss: 687.4975 - val_loss: 476.9115\n",
            "Epoch 14/35\n",
            "\u001b[1m110/110\u001b[0m \u001b[32m━━━━━━━━━━━━━━━━━━━━\u001b[0m\u001b[37m\u001b[0m \u001b[1m0s\u001b[0m 327us/step - loss: 0.0000e+00 - val_loss: 476.9115\n",
            "Epoch 15/35\n",
            "\u001b[1m110/110\u001b[0m \u001b[32m━━━━━━━━━━━━━━━━━━━━\u001b[0m\u001b[37m\u001b[0m \u001b[1m0s\u001b[0m 2ms/step - loss: 641.4616 - val_loss: 391.8224\n",
            "Epoch 16/35\n",
            "\u001b[1m110/110\u001b[0m \u001b[32m━━━━━━━━━━━━━━━━━━━━\u001b[0m\u001b[37m\u001b[0m \u001b[1m0s\u001b[0m 329us/step - loss: 0.0000e+00 - val_loss: 391.8224\n",
            "Epoch 17/35\n",
            "\u001b[1m110/110\u001b[0m \u001b[32m━━━━━━━━━━━━━━━━━━━━\u001b[0m\u001b[37m\u001b[0m \u001b[1m1s\u001b[0m 4ms/step - loss: 598.7311 - val_loss: 348.6288\n",
            "Epoch 18/35\n",
            "\u001b[1m110/110\u001b[0m \u001b[32m━━━━━━━━━━━━━━━━━━━━\u001b[0m\u001b[37m\u001b[0m \u001b[1m0s\u001b[0m 572us/step - loss: 0.0000e+00 - val_loss: 348.6288\n",
            "Epoch 19/35\n",
            "\u001b[1m110/110\u001b[0m \u001b[32m━━━━━━━━━━━━━━━━━━━━\u001b[0m\u001b[37m\u001b[0m \u001b[1m1s\u001b[0m 4ms/step - loss: 564.7827 - val_loss: 305.1819\n",
            "Epoch 20/35\n",
            "\u001b[1m110/110\u001b[0m \u001b[32m━━━━━━━━━━━━━━━━━━━━\u001b[0m\u001b[37m\u001b[0m \u001b[1m0s\u001b[0m 983us/step - loss: 0.0000e+00 - val_loss: 305.1819\n",
            "Epoch 21/35\n",
            "\u001b[1m110/110\u001b[0m \u001b[32m━━━━━━━━━━━━━━━━━━━━\u001b[0m\u001b[37m\u001b[0m \u001b[1m1s\u001b[0m 4ms/step - loss: 538.5220 - val_loss: 277.1872\n",
            "Epoch 22/35\n",
            "\u001b[1m110/110\u001b[0m \u001b[32m━━━━━━━━━━━━━━━━━━━━\u001b[0m\u001b[37m\u001b[0m \u001b[1m0s\u001b[0m 450us/step - loss: 0.0000e+00 - val_loss: 277.1872\n",
            "Epoch 23/35\n",
            "\u001b[1m110/110\u001b[0m \u001b[32m━━━━━━━━━━━━━━━━━━━━\u001b[0m\u001b[37m\u001b[0m \u001b[1m0s\u001b[0m 2ms/step - loss: 516.5402 - val_loss: 259.2711\n",
            "Epoch 24/35\n",
            "\u001b[1m110/110\u001b[0m \u001b[32m━━━━━━━━━━━━━━━━━━━━\u001b[0m\u001b[37m\u001b[0m \u001b[1m0s\u001b[0m 320us/step - loss: 0.0000e+00 - val_loss: 259.2711\n",
            "Epoch 25/35\n",
            "\u001b[1m110/110\u001b[0m \u001b[32m━━━━━━━━━━━━━━━━━━━━\u001b[0m\u001b[37m\u001b[0m \u001b[1m1s\u001b[0m 2ms/step - loss: 497.6308 - val_loss: 250.5885\n",
            "Epoch 26/35\n",
            "\u001b[1m110/110\u001b[0m \u001b[32m━━━━━━━━━━━━━━━━━━━━\u001b[0m\u001b[37m\u001b[0m \u001b[1m0s\u001b[0m 317us/step - loss: 0.0000e+00 - val_loss: 250.5885\n",
            "Epoch 27/35\n",
            "\u001b[1m110/110\u001b[0m \u001b[32m━━━━━━━━━━━━━━━━━━━━\u001b[0m\u001b[37m\u001b[0m \u001b[1m0s\u001b[0m 2ms/step - loss: 481.0990 - val_loss: 243.5724\n",
            "Epoch 28/35\n",
            "\u001b[1m110/110\u001b[0m \u001b[32m━━━━━━━━━━━━━━━━━━━━\u001b[0m\u001b[37m\u001b[0m \u001b[1m0s\u001b[0m 541us/step - loss: 0.0000e+00 - val_loss: 243.5724\n",
            "Epoch 29/35\n",
            "\u001b[1m110/110\u001b[0m \u001b[32m━━━━━━━━━━━━━━━━━━━━\u001b[0m\u001b[37m\u001b[0m \u001b[1m1s\u001b[0m 2ms/step - loss: 455.1635 - val_loss: 228.2835\n",
            "Epoch 30/35\n",
            "\u001b[1m110/110\u001b[0m \u001b[32m━━━━━━━━━━━━━━━━━━━━\u001b[0m\u001b[37m\u001b[0m \u001b[1m0s\u001b[0m 459us/step - loss: 0.0000e+00 - val_loss: 228.2835\n",
            "Epoch 31/35\n",
            "\u001b[1m110/110\u001b[0m \u001b[32m━━━━━━━━━━━━━━━━━━━━\u001b[0m\u001b[37m\u001b[0m \u001b[1m0s\u001b[0m 2ms/step - loss: 437.8864 - val_loss: 219.2031\n",
            "Epoch 32/35\n",
            "\u001b[1m110/110\u001b[0m \u001b[32m━━━━━━━━━━━━━━━━━━━━\u001b[0m\u001b[37m\u001b[0m \u001b[1m0s\u001b[0m 316us/step - loss: 0.0000e+00 - val_loss: 219.2031\n",
            "Epoch 33/35\n",
            "\u001b[1m110/110\u001b[0m \u001b[32m━━━━━━━━━━━━━━━━━━━━\u001b[0m\u001b[37m\u001b[0m \u001b[1m0s\u001b[0m 2ms/step - loss: 423.6846 - val_loss: 219.3477\n",
            "Epoch 34/35\n",
            "\u001b[1m110/110\u001b[0m \u001b[32m━━━━━━━━━━━━━━━━━━━━\u001b[0m\u001b[37m\u001b[0m \u001b[1m0s\u001b[0m 486us/step - loss: 0.0000e+00 - val_loss: 219.3477\n",
            "Epoch 35/35\n",
            "\u001b[1m110/110\u001b[0m \u001b[32m━━━━━━━━━━━━━━━━━━━━\u001b[0m\u001b[37m\u001b[0m \u001b[1m1s\u001b[0m 4ms/step - loss: 410.3099 - val_loss: 215.5869\n"
          ]
        }
      ]
    },
    {
      "cell_type": "code",
      "source": [
        "y_predict = model.predict(x_test)"
      ],
      "metadata": {
        "colab": {
          "base_uri": "https://localhost:8080/"
        },
        "id": "l59hWQ9YSGb7",
        "outputId": "78495ec8-6f94-4300-befe-8560dc52256b"
      },
      "execution_count": 23,
      "outputs": [
        {
          "output_type": "stream",
          "name": "stdout",
          "text": [
            "\u001b[1m5/5\u001b[0m \u001b[32m━━━━━━━━━━━━━━━━━━━━\u001b[0m\u001b[37m\u001b[0m \u001b[1m0s\u001b[0m 32ms/step\n"
          ]
        }
      ]
    },
    {
      "cell_type": "code",
      "source": [
        "from sklearn.metrics import r2_score\n",
        "r_squared = r2_score(y_test, y_predict)\n",
        "print(\"R-squared value:\", r_squared)\n"
      ],
      "metadata": {
        "colab": {
          "base_uri": "https://localhost:8080/"
        },
        "id": "EdNQfPRrSKiB",
        "outputId": "87a27c20-63f4-4f17-94fc-a6857d20e723"
      },
      "execution_count": 24,
      "outputs": [
        {
          "output_type": "stream",
          "name": "stdout",
          "text": [
            "R-squared value: 0.9860416499072371\n"
          ]
        }
      ]
    },
    {
      "cell_type": "code",
      "source": [
        "\n",
        "weights_1, bias_1 = model.layers[0].get_weights()\n",
        "weights_2, bias_2 = model.layers[1].get_weights()\n",
        "weights_3, bias_3 = model.layers[2].get_weights()\n",
        "weights_4, bias_4 = model.layers[3].get_weights()\n",
        "weights_5, bias_5 = model.layers[4].get_weights()\n",
        "weights_6, bias_6 = model.layers[5].get_weights()\n"
      ],
      "metadata": {
        "id": "8xsnSstPSMLw"
      },
      "execution_count": 28,
      "outputs": []
    },
    {
      "cell_type": "code",
      "source": [
        "weights_1_array = np.array(weights_1)\n",
        "bias_1_array = np.array(bias_1)\n",
        "weights_2_array = np.array(weights_2)\n",
        "bias_2_array = np.array(bias_2)\n",
        "weights_3_array = np.array(weights_3)\n",
        "bias_3_array = np.array(bias_3)\n",
        "weights_4_array = np.array(weights_4)\n",
        "bias_4_array = np.array(bias_4)\n",
        "weights_5_array = np.array(weights_5)\n",
        "bias_5_array = np.array(bias_5)\n",
        "weights_6_array = np.array(weights_6)\n",
        "bias_6_array = np.array(bias_6)\n"
      ],
      "metadata": {
        "id": "2AFr9t_YSNxG"
      },
      "execution_count": 27,
      "outputs": []
    },
    {
      "cell_type": "code",
      "source": [
        "\n",
        "np.savetxt(\"weights_layer1.csv\", weights_1_array, delimiter=\",\")\n",
        "np.savetxt(\"biases_layer1.csv\", bias_1_array, delimiter=\",\")\n",
        "np.savetxt(\"weights_layer2.csv\", weights_2_array, delimiter=\",\")\n",
        "np.savetxt(\"biases_layer2.csv\", bias_2_array, delimiter=\",\")\n",
        "np.savetxt(\"weights_layer3.csv\", weights_3_array, delimiter=\",\")\n",
        "np.savetxt(\"biases_layer3.csv\", bias_3_array, delimiter=\",\")\n",
        "np.savetxt(\"weights_layer4.csv\", weights_4_array, delimiter=\",\")\n",
        "np.savetxt(\"biases_layer4.csv\", bias_4_array, delimiter=\",\")\n",
        "np.savetxt(\"weights_layer5.csv\", weights_5_array, delimiter=\",\")\n",
        "np.savetxt(\"biases_layer5.csv\", bias_5_array, delimiter=\",\")\n",
        "np.savetxt(\"weights_layer6.csv\", weights_6_array, delimiter=\",\")\n",
        "np.savetxt(\"biases_layer6.csv\", bias_6_array, delimiter=\",\")\n",
        "\n"
      ],
      "metadata": {
        "id": "dLLxJPfESPoV"
      },
      "execution_count": 29,
      "outputs": []
    },
    {
      "cell_type": "code",
      "source": [],
      "metadata": {
        "id": "a3ScVpU_SXiL"
      },
      "execution_count": null,
      "outputs": []
    }
  ]
}